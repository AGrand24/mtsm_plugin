{
 "cells": [
  {
   "cell_type": "code",
   "execution_count": 1,
   "id": "ec76ce5c",
   "metadata": {},
   "outputs": [
    {
     "data": {
      "text/plain": [
       "'c:\\\\Users\\\\adamg\\\\AppData\\\\Roaming\\\\QGIS\\\\QGIS3\\\\profiles\\\\default\\\\python\\\\plugins\\\\mtsm_plugin\\\\mtsm.zip'"
      ]
     },
     "execution_count": 1,
     "metadata": {},
     "output_type": "execute_result"
    }
   ],
   "source": [
    "from get_ld import *\n",
    "from pathlib import Path\n",
    "import shutil\n",
    "\n",
    "\n",
    "try:\n",
    "\tos.rmdir('mtsm/')\n",
    "except:\n",
    "\t# print('Error deleting')\n",
    "\tpass\n",
    "\n",
    "ld=get_ld(os.getcwd())\n",
    "ld=ld.loc[~ld['fp'].str.contains('__pycache__')]\n",
    "ld=ld.loc[~ld['fp'].str.contains('.git')]\n",
    "ld=ld.loc[~ld['fp'].str.contains('.zip')]\n",
    "\n",
    "fp_n=[]\n",
    "for fp in ld['fp']:\n",
    "\tif Path(fp).parents[0].name=='mtsm_plugin':\n",
    "\t\tfp_n.append('zip/mtsm/'+Path(fp).name)\n",
    "\telse:\n",
    "\t\tfp_n.append(f'zip/mtsm/{Path(fp).parents[0].name}/'+Path(fp).name)\n",
    "\t\t\n",
    "\n",
    "ld['fp_n']=fp_n\n",
    "\n",
    "if not os.path.exists('zip/mtsm'):\n",
    "\tos.makedirs('zip/mtsm')\n",
    "\n",
    "for fp1,fp2 in zip(ld['fp'],ld['fp_n']):\n",
    "\tparent=Path(fp2).parent\n",
    "\tif not  os.path.exists(parent):\n",
    "\t\tos.mkdir(parent)\n",
    "\tshutil.copy(fp1,fp2)\n",
    "\n",
    "shutil.make_archive('mtsm','zip','zip')\n",
    "\n",
    "\n",
    "\n",
    "\n",
    "\n",
    "\n"
   ]
  }
 ],
 "metadata": {
  "kernelspec": {
   "display_name": "Python 3",
   "language": "python",
   "name": "python3"
  },
  "language_info": {
   "codemirror_mode": {
    "name": "ipython",
    "version": 3
   },
   "file_extension": ".py",
   "mimetype": "text/x-python",
   "name": "python",
   "nbconvert_exporter": "python",
   "pygments_lexer": "ipython3",
   "version": "3.12.7"
  }
 },
 "nbformat": 4,
 "nbformat_minor": 5
}
